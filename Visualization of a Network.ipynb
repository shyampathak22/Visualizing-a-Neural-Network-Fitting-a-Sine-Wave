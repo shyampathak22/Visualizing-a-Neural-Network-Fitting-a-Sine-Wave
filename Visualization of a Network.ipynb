{
 "cells": [
  {
   "cell_type": "code",
   "execution_count": null,
   "id": "2a6add79-408f-46c0-902e-a0f8441ddead",
   "metadata": {
    "tags": []
   },
   "outputs": [],
   "source": [
    "import tensorflow as tf\n",
    "from tensorflow.keras.models import Sequential\n",
    "from tensorflow.keras.layers import Dense\n",
    "from tensorflow.keras.layers import Input\n",
    "import matplotlib.pyplot as plt\n",
    "import numpy as np\n",
    "from IPython.display import clear_output, display"
   ]
  },
  {
   "cell_type": "code",
   "execution_count": null,
   "id": "a05ed718-deac-4c97-bf00-c9e22122494b",
   "metadata": {
    "tags": []
   },
   "outputs": [],
   "source": [
    "model = Sequential([\n",
    "    Input(shape=(1,)),\n",
    "    Dense(50, activation='relu'),\n",
    "    Dense(50, activation='relu'),\n",
    "    Dense(1)\n",
    "])"
   ]
  },
  {
   "cell_type": "code",
   "execution_count": null,
   "id": "ec6d1798-cc79-46ce-ac70-8268ffa2dc26",
   "metadata": {
    "tags": []
   },
   "outputs": [],
   "source": [
    "model.compile(optimizer='adam', loss='mean_squared_error')"
   ]
  },
  {
   "cell_type": "code",
   "execution_count": null,
   "id": "27f0fbfd-a796-4cc5-94d1-ff4e2fb9576b",
   "metadata": {
    "tags": []
   },
   "outputs": [],
   "source": [
    "x_data = np.linspace(-10, 10, 100)\n",
    "y_data = np.sin(x_data)\n",
    "\n",
    "x_data = x_data.reshape(-1, 1)\n",
    "y_data = y_data.reshape(-1, 1)"
   ]
  },
  {
   "cell_type": "code",
   "execution_count": null,
   "id": "c72229eb-0238-4d4e-8ed9-a55a2d88381f",
   "metadata": {
    "tags": []
   },
   "outputs": [],
   "source": [
    "fig, ax = plt.subplots()\n",
    "ax.scatter(x_data, y_data, label='Actual Data')\n",
    "line, = ax.plot(x_data, model.predict(x_data), 'r-', label='Model Prediction')\n",
    "plt.legend()\n",
    "plt.figure(figsize=(25, 8))\n",
    "\n",
    "\n",
    "for epoch in range(1000):\n",
    "    model.fit(x_data, y_data, epochs=1, verbose=0)\n",
    "    \n",
    "    clear_output(wait=True)\n",
    "    ax.clear()\n",
    "    ax.scatter(x_data, y_data, label='Actual Data')\n",
    "    line, = ax.plot(x_data, model.predict(x_data), 'r-', label='Model Prediction')\n",
    "    plt.figure(figsize=(25, 8))\n",
    "    display(fig)\n",
    "\n",
    "plt.close()"
   ]
  }
 ],
 "metadata": {
  "kernelspec": {
   "display_name": "neuralexplore",
   "language": "python",
   "name": "python3"
  },
  "language_info": {
   "codemirror_mode": {
    "name": "ipython",
    "version": 3
   },
   "file_extension": ".py",
   "mimetype": "text/x-python",
   "name": "python",
   "nbconvert_exporter": "python",
   "pygments_lexer": "ipython3",
   "version": "3.12.2"
  }
 },
 "nbformat": 4,
 "nbformat_minor": 5
}
